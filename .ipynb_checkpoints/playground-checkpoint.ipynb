{
 "cells": [
  {
   "cell_type": "code",
   "execution_count": 1,
   "id": "4de3c049-885a-4552-a859-b62e48f45761",
   "metadata": {},
   "outputs": [
    {
     "name": "stdout",
     "output_type": "stream",
     "text": [
      "+---+-----+\n",
      "| id| name|\n",
      "+---+-----+\n",
      "|  1|Neyaz|\n",
      "|  2| Nick|\n",
      "|  3| hari|\n",
      "|  4| john|\n",
      "+---+-----+\n",
      "\n",
      "root\n",
      " |-- id: integer (nullable = true)\n",
      " |-- name: string (nullable = true)\n",
      "\n"
     ]
    }
   ],
   "source": [
    "\"\"\"\n",
    " MySQL injection to Spark, using the Sakila sample database.\n",
    "\n",
    "\n",
    "\"\"\"\n",
    "import logging\n",
    "from pyspark.sql import SparkSession\n",
    "\n",
    "# Creates a session on a local master\n",
    "spark = SparkSession.builder.appName(\"MySQL to Dataframe using a JDBC Connection\") \\\n",
    "    .master(\"local[*]\").getOrCreate()\n",
    "\n",
    "user = \"root\"\n",
    "password = \"password\"\n",
    "use_ssl=\"false\"\n",
    "mysql_url = \"jdbc:mysql://localhost:3306/testschema\"\n",
    "dbtable = \"acct\"\n",
    "database=\"testschema\"\n",
    "\n",
    "df = spark.read.format(\"jdbc\") \\\n",
    "    .options(url=mysql_url,\n",
    "             database=database,\n",
    "             dbtable=dbtable,\n",
    "             user=user,\n",
    "             password=password) \\\n",
    "    .load()\n",
    "\n",
    "#df = df.orderBy(df.col(\"last_name\"))\n",
    "\n",
    "# Displays the dataframe and some of its metadata\n",
    "df.show(5)\n",
    "df.printSchema()\n",
    "\n",
    "logging.info(\"The dataframe contains {} record(s).\".format(df.count()))\n",
    "\n",
    "spark.stop()"
   ]
  },
  {
   "cell_type": "code",
   "execution_count": null,
   "id": "6fb4b63f-4e2c-4009-b34f-9feeec04f999",
   "metadata": {},
   "outputs": [],
   "source": []
  }
 ],
 "metadata": {
  "kernelspec": {
   "display_name": "Python 3",
   "language": "python",
   "name": "python3"
  },
  "language_info": {
   "codemirror_mode": {
    "name": "ipython",
    "version": 3
   },
   "file_extension": ".py",
   "mimetype": "text/x-python",
   "name": "python",
   "nbconvert_exporter": "python",
   "pygments_lexer": "ipython3",
   "version": "3.8.8"
  }
 },
 "nbformat": 4,
 "nbformat_minor": 5
}
