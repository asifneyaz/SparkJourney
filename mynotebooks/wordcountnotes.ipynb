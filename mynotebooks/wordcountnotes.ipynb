{
 "cells": [
  {
   "cell_type": "code",
   "execution_count": 1,
   "metadata": {
    "collapsed": true
   },
   "outputs": [],
   "source": [
    "from pyspark.sql import SparkSession"
   ]
  },
  {
   "cell_type": "code",
   "execution_count": 2,
   "outputs": [
    {
     "name": "stdout",
     "output_type": "stream",
     "text": [
      "+--------+\n",
      "|    word|\n",
      "+--------+\n",
      "|    look|\n",
      "|   spark|\n",
      "|tutorial|\n",
      "|   spark|\n",
      "|    look|\n",
      "|  python|\n",
      "+--------+\n",
      "\n",
      "<class 'pyspark.sql.dataframe.DataFrame'>\n",
      "root\n",
      " |-- word: string (nullable = true)\n",
      "\n"
     ]
    }
   ],
   "source": [
    "spark = SparkSession.builder.appName(\"wordcountdf\").master(\"local[*]\").getOrCreate()\n",
    "sc = spark.sparkContext\n",
    "# create a silly test dataframe from Python collections (lists)\n",
    "wordsDF = spark.createDataFrame([('look',), ('spark',), ('tutorial',), ('spark',), ('look',), ('python',)], ['word'])\n",
    "wordsDF.show()\n",
    "print(type(wordsDF))\n",
    "wordsDF.printSchema()"
   ],
   "metadata": {
    "collapsed": false,
    "pycharm": {
     "name": "#%%\n"
    }
   }
  },
  {
   "cell_type": "code",
   "execution_count": 3,
   "outputs": [
    {
     "name": "stdout",
     "output_type": "stream",
     "text": [
      "+-------+\n",
      "|lengths|\n",
      "+-------+\n",
      "|      4|\n",
      "|      5|\n",
      "|      8|\n",
      "|      5|\n",
      "|      4|\n",
      "|      6|\n",
      "+-------+\n",
      "\n"
     ]
    }
   ],
   "source": [
    "# This use lazy evaluation: results are not computed right away – Spark remembers the set of transformations applied to the base DataFrame. Think of this as a recipe for creating result.\n",
    "#     Spark Actions like show(), collect() or count() then cause Spark to execute the recipe to transform the source. It is the mechanism for getting results out of Spark.\n",
    "# Length of each word\n",
    "# You can create a new DataFrame from our base DF wordsDF by calling the select DataFrame function and pass in the appropriate recipe: we can use the SQL length function to find the number of characters in each word.\n",
    "# The length function is found in the pyspark.sql.functions module.\n",
    "from pyspark.sql.functions import length\n",
    "wordsLengthsDF = wordsDF.select(length('word').alias('lengths'))  # transformation\n",
    "wordsLengthsDF.show()  # action\n"
   ],
   "metadata": {
    "collapsed": false,
    "pycharm": {
     "name": "#%%Create a new DataFrame from an existing one\n"
    }
   }
  },
  {
   "cell_type": "code",
   "execution_count": 6,
   "outputs": [
    {
     "name": "stdout",
     "output_type": "stream",
     "text": [
      "+--------+-----+\n",
      "|    word|count|\n",
      "+--------+-----+\n",
      "|tutorial|    1|\n",
      "|   spark|    2|\n",
      "|    look|    2|\n",
      "|  python|    1|\n",
      "+--------+-----+\n",
      "\n"
     ]
    }
   ],
   "source": [
    "# Now, let's count the number of times a particular word appears in the 'word' column. There are multiple ways to perform the counting, but some are much less efficient than others.\n",
    "# A naive approach would be to call collect on all of the elements and count them in the driver program. While this approach could work for small datasets, we want an approach that will work for any size dataset including terabyte- or petabyte-sized datasets. In addition, performing all of the work in the driver program is slower than performing it in parallel in the workers. For these reasons, we will use data parallel operations.\n",
    "\n",
    "#\n",
    "# Using groupBy and count\n",
    "# Using DataFrames, we can preform aggregations by grouping the data using the groupBy function on the DataFrame. Using groupBy returns a GroupedData object and we can use the functions available for GroupedData to aggregate the groups. For example, we can call avg or count on a GroupedData object to obtain the average of the values in the groups or the number of occurrences in the groups, respectively.\n",
    "# To find the counts of words, we group by the words and then use the count function to find the number of times that words occur.\n",
    "\n",
    "\n",
    "wordCountsDF = wordsDF.groupBy('word').count()\n",
    "wordCountsDF.show()"
   ],
   "metadata": {
    "collapsed": false,
    "pycharm": {
     "name": "#%%\n"
    }
   }
  },
  {
   "cell_type": "code",
   "execution_count": 8,
   "outputs": [
    {
     "name": "stdout",
     "output_type": "stream",
     "text": [
      "4\n"
     ]
    }
   ],
   "source": [
    "# Unique words\n",
    "# Calculate the number of unique words in wordsDF.\n",
    "uniqueWordsCount = wordCountsDF\\\n",
    "    .count()\n",
    "print(uniqueWordsCount)"
   ],
   "metadata": {
    "collapsed": false,
    "pycharm": {
     "name": "#%%\n"
    }
   }
  },
  {
   "cell_type": "code",
   "execution_count": 9,
   "outputs": [
    {
     "name": "stdout",
     "output_type": "stream",
     "text": [
      "1.5\n"
     ]
    }
   ],
   "source": [
    "averageCount = wordCountsDF.groupBy().mean('count').collect()[0][0]\n",
    "print(averageCount)"
   ],
   "metadata": {
    "collapsed": false,
    "pycharm": {
     "name": "#%%\n"
    }
   }
  },
  {
   "cell_type": "code",
   "execution_count": 10,
   "outputs": [
    {
     "name": "stdout",
     "output_type": "stream",
     "text": [
      "+--------+-----+\n",
      "|    word|count|\n",
      "+--------+-----+\n",
      "|tutorial|    1|\n",
      "|   spark|    2|\n",
      "|    look|    2|\n",
      "|  python|    1|\n",
      "+--------+-----+\n",
      "\n"
     ]
    }
   ],
   "source": [
    "def wordCount(wordListDF):\n",
    "    \"\"\"Creates a DataFrame with word counts.\n",
    "\n",
    "    Args:\n",
    "        wordListDF (DataFrame of str): A DataFrame consisting of one string column called 'word'.\n",
    "\n",
    "    Returns:\n",
    "        DataFrame of (str, int): A DataFrame containing 'word' and 'count' columns.\n",
    "    \"\"\"\n",
    "    return (wordListDF\n",
    "            .groupBy('word').count())\n",
    "\n",
    "\n",
    "# apply the new function to the words DataFrame, it should get the same result\n",
    "wordCount(wordsDF).show()"
   ],
   "metadata": {
    "collapsed": false,
    "pycharm": {
     "name": "#%%\n"
    }
   }
  },
  {
   "cell_type": "code",
   "execution_count": 65,
   "outputs": [
    {
     "name": "stdout",
     "output_type": "stream",
     "text": [
      "+------------------------------------------+\n",
      "|sentence                                  |\n",
      "+------------------------------------------+\n",
      "|Hi, you                                   |\n",
      "| Look! [No under_score]?!                 |\n",
      "| *      Remove punctuation then spaces  * |\n",
      "+------------------------------------------+\n",
      "\n",
      "+------------------------------------------+\n",
      "|sentence                                  |\n",
      "+------------------------------------------+\n",
      "|Hi, you                                   |\n",
      "| Look! [No under_score]?!                 |\n",
      "| *      Remove punctuation then spaces  * |\n",
      "+------------------------------------------+\n",
      "\n"
     ]
    }
   ],
   "source": [],
   "metadata": {
    "collapsed": false,
    "pycharm": {
     "name": "#%%\n"
    }
   }
  },
  {
   "cell_type": "code",
   "execution_count": 86,
   "outputs": [
    {
     "name": "stdout",
     "output_type": "stream",
     "text": [
      "+------------------------------------------------------------------------+\n",
      "|sentence                                                                |\n",
      "+------------------------------------------------------------------------+\n",
      "|The Project Gutenberg eBook of Pride and Prejudice, by Jane Austen      |\n",
      "|                                                                        |\n",
      "|This eBook is for the use of anyone anywhere in the United States and   |\n",
      "|most other parts of the world at no cost and with almost no restrictions|\n",
      "|whatsoever. You may copy it, give it away or re-use it under the terms  |\n",
      "|of the Project Gutenberg License included with this eBook or online at  |\n",
      "|www.gutenberg.org. If you are not located in the United States, you     |\n",
      "|will have to check the laws of the country where you are located before |\n",
      "|using this eBook.                                                       |\n",
      "|                                                                        |\n",
      "|Title: Pride and Prejudice                                              |\n",
      "|                                                                        |\n",
      "|Author: Jane Austen                                                     |\n",
      "|                                                                        |\n",
      "|Release Date: June, 1998 [eBook #1342]                                  |\n",
      "+------------------------------------------------------------------------+\n",
      "only showing top 15 rows\n",
      "\n"
     ]
    }
   ],
   "source": [
    "from pyspark.sql.functions import col\n",
    "# Load a text file\n",
    "# For the next part, we will use the Complete Works of William Shakespeare from Project Gutenberg. To convert a text file into a DataFrame, we use the sqlContext.read.text() method. We also apply the recently defined removePunctuation() function using a select() transformation to strip out the punctuation and change all text to lower case. Since the file is large we use show(15), so that we only print 15 lines.\n",
    "fileName = \"/Users/tech/codes/SparkJourney/data/PrideandPrejudice.txt\"\n",
    "\n",
    "bookDF = spark.read.text(fileName).select(col(\"value\").alias(\"sentence\"))\n",
    "bookDF.show(15, truncate=False)"
   ],
   "metadata": {
    "collapsed": false,
    "pycharm": {
     "name": "#%%\n"
    }
   }
  },
  {
   "cell_type": "code",
   "execution_count": 87,
   "outputs": [
    {
     "name": "stdout",
     "output_type": "stream",
     "text": [
      "+--------------------+\n",
      "|               split|\n",
      "+--------------------+\n",
      "|[The, Project, Gu...|\n",
      "|                  []|\n",
      "|[This, eBook, is,...|\n",
      "|[most, other, par...|\n",
      "|[whatsoever., You...|\n",
      "|[of, the, Project...|\n",
      "|[www.gutenberg.or...|\n",
      "|[will, have, to, ...|\n",
      "|[using, this, eBo...|\n",
      "|                  []|\n",
      "|[Title:, Pride, a...|\n",
      "|                  []|\n",
      "|[Author:, Jane, A...|\n",
      "|                  []|\n",
      "|[Release, Date:, ...|\n",
      "+--------------------+\n",
      "only showing top 15 rows\n",
      "\n",
      "+----------+\n",
      "|      word|\n",
      "+----------+\n",
      "|       The|\n",
      "|   Project|\n",
      "| Gutenberg|\n",
      "|     eBook|\n",
      "|        of|\n",
      "|     Pride|\n",
      "|       and|\n",
      "|Prejudice,|\n",
      "|        by|\n",
      "|      Jane|\n",
      "|    Austen|\n",
      "|      This|\n",
      "|     eBook|\n",
      "|        is|\n",
      "|       for|\n",
      "|       the|\n",
      "|       use|\n",
      "|        of|\n",
      "|    anyone|\n",
      "|  anywhere|\n",
      "+----------+\n",
      "only showing top 20 rows\n",
      "\n",
      "124749\n"
     ]
    }
   ],
   "source": [
    "from pyspark.sql.functions import split, explode\n",
    "# Words from lines\n",
    "# Before we can use the wordcount() function, we have to address two issues with the format of the DataFrame:\n",
    "#     The first issue is that that we need to split each line by its spaces.\n",
    "# The second issue is we need to filter out empty lines or words.\n",
    "# We apply a transformation that will split each 'sentence' in the DataFrame by its spaces, and then transform from a DataFrame that contains lists of words into a DataFrame with each word in its own row. To accomplish these two tasks you can use the split and explode functions found in pyspark.sql.functions.\n",
    "# Once we have a DataFrame with one word per row we can apply the DataFrame operation where to remove the rows that contain ''.\n",
    "#\n",
    "\n",
    "\n",
    "bookWordsSplitDF = bookDF.select(split(bookDF.sentence, ' ').alias('split'))\n",
    "bookWordsSplitDF.show(15)\n",
    "bookWordsSingleDF = (bookWordsSplitDF.select(explode(bookWordsSplitDF.split).alias('word')))\n",
    "bookWordsDF = bookWordsSingleDF.where(bookWordsSingleDF.word != '')\n",
    "bookWordsDF.show()\n",
    "bookWordsDFCount = bookWordsDF.count()\n",
    "print(bookWordsDFCount)"
   ],
   "metadata": {
    "collapsed": false,
    "pycharm": {
     "name": "#%%\n"
    }
   }
  }
 ],
 "metadata": {
  "kernelspec": {
   "display_name": "Python 3",
   "language": "python",
   "name": "python3"
  },
  "language_info": {
   "codemirror_mode": {
    "name": "ipython",
    "version": 2
   },
   "file_extension": ".py",
   "mimetype": "text/x-python",
   "name": "python",
   "nbconvert_exporter": "python",
   "pygments_lexer": "ipython2",
   "version": "2.7.6"
  }
 },
 "nbformat": 4,
 "nbformat_minor": 0
}