{
 "cells": [
  {
   "cell_type": "code",
   "execution_count": 7,
   "metadata": {
    "pycharm": {
     "name": "#%%schemas\n"
    }
   },
   "outputs": [
    {
     "name": "stdout",
     "output_type": "stream",
     "text": [
      "+-----+---+\n",
      "| name|age|\n",
      "+-----+---+\n",
      "|  tom|  1|\n",
      "|  man|  5|\n",
      "|robin|  7|\n",
      "+-----+---+\n",
      "\n"
     ]
    }
   ],
   "source": [
    "from pyspark.sql import SparkSession\n",
    "spark = SparkSession.builder.appName(\"test\").master(\"local[*]\").getOrCreate()\n",
    "sc = spark.sparkContext\n",
    "my_list = [(\"tom\", 1), (\"man\", 5), (\"robin\", 7) ]\n",
    "rdd = spark.sparkContext.parallelize(my_list)\n",
    "schema = [\"name\", \"age\"]\n",
    "listDF = spark.createDataFrame(rdd, schema)\n",
    "listDF.show()\n",
    "\n",
    "\n",
    "\n",
    "\n",
    "\n"
   ]
  },
  {
   "cell_type": "code",
   "execution_count": 54,
   "outputs": [
    {
     "name": "stdout",
     "output_type": "stream",
     "text": [
      "+--------------------+\n",
      "|               title|\n",
      "+--------------------+\n",
      "|Fantastic Beasts ...|\n",
      "|*Harry Potter and...|\n",
      "|*The Tales of Bee...|\n",
      "|*Harry Potter and...|\n",
      "|*Informix 12.10 o...|\n",
      "|Adventures of Huc...|\n",
      "|A Connecticut Yan...|\n",
      "|Jacques le Fataliste|\n",
      "|   A Woman in Berlin|\n",
      "|Spring Boot in Ac...|\n",
      "|Spring in Action:...|\n",
      "|Soft Skills: The ...|\n",
      "|*Java 8 in Action...|\n",
      "|              Hamlet|\n",
      "|             Pensées|\n",
      "|    *Fables choisies|\n",
      "|Discourse on Meth...|\n",
      "|       Twelfth Night|\n",
      "|             Macbeth|\n",
      "+--------------------+\n",
      "\n"
     ]
    }
   ],
   "source": [
    "csvDF = spark.read.format(\"csv\")\\\n",
    "    .option(\"sep\", \";\")\\\n",
    "    .option(\"inferSchema\", \"true\")\\\n",
    "    .option(\"header\", \"true\")\\\n",
    "    .option(\"path\", \"/Users/tech/codes/SparkJourney/data/books.csv\").load()\n",
    "# csvDF.show()\n",
    "csvDF.createOrReplaceTempView(\"books_csv\")\n",
    "spark.sql(\"\"\"select title from books_csv where releaseDate < '2000-01-01'\"\"\").show()"
   ],
   "metadata": {
    "collapsed": false,
    "pycharm": {
     "name": "#%%\n"
    }
   }
  }
 ],
 "metadata": {
  "kernelspec": {
   "display_name": "Python 3",
   "language": "python",
   "name": "python3"
  },
  "language_info": {
   "codemirror_mode": {
    "name": "ipython",
    "version": 3
   },
   "file_extension": ".py",
   "mimetype": "text/x-python",
   "name": "python",
   "nbconvert_exporter": "python",
   "pygments_lexer": "ipython3",
   "version": "3.8.8"
  }
 },
 "nbformat": 4,
 "nbformat_minor": 1
}