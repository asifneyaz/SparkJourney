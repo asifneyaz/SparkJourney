{
 "cells": [
  {
   "cell_type": "code",
   "execution_count": 1,
   "id": "4de3c049-885a-4552-a859-b62e48f45761",
   "metadata": {},
   "outputs": [
    {
     "name": "stdout",
     "output_type": "stream",
     "text": [
      "+---+-----+\n",
      "| id| name|\n",
      "+---+-----+\n",
      "|  1|Neyaz|\n",
      "|  2| Nick|\n",
      "|  3| hari|\n",
      "|  4| john|\n",
      "+---+-----+\n",
      "\n",
      "root\n",
      " |-- id: integer (nullable = true)\n",
      " |-- name: string (nullable = true)\n",
      "\n"
     ]
    }
   ],
   "source": [
    "\"\"\"\n",
    " MySQL injection to Spark, using the Sakila sample database.\n",
    "\n",
    "\n",
    "\"\"\"\n",
    "import logging\n",
    "from pyspark.sql import SparkSession\n",
    "\n",
    "# Creates a session on a local master\n",
    "spark = SparkSession.builder.appName(\"MySQL to Dataframe using a JDBC Connection\") \\\n",
    "    .master(\"local[*]\").getOrCreate()\n",
    "\n",
    "user = \"root\"\n",
    "password = \"password\"\n",
    "use_ssl=\"false\"\n",
    "mysql_url = \"jdbc:mysql://localhost:3306/testschema\"\n",
    "dbtable = \"acct\"\n",
    "database=\"testschema\"\n",
    "\n",
    "df = spark.read.format(\"jdbc\") \\\n",
    "    .options(url=mysql_url,\n",
    "             database=database,\n",
    "             dbtable=dbtable,\n",
    "             user=user,\n",
    "             password=password) \\\n",
    "    .load()\n",
    "\n",
    "#df = df.orderBy(df.col(\"last_name\"))\n",
    "\n",
    "# Displays the dataframe and some of its metadata\n",
    "df.show(5)\n",
    "df.printSchema()\n",
    "\n",
    "logging.info(\"The dataframe contains {} record(s).\".format(df.count()))\n",
    "\n"
   ]
  },
  {
   "cell_type": "code",
   "execution_count": 2,
   "id": "6fb4b63f-4e2c-4009-b34f-9feeec04f999",
   "metadata": {},
   "outputs": [
    {
     "name": "stdout",
     "output_type": "stream",
     "text": [
      "+---+-----+\n",
      "| id| name|\n",
      "+---+-----+\n",
      "|  1|Neyaz|\n",
      "+---+-----+\n",
      "only showing top 1 row\n",
      "\n"
     ]
    }
   ],
   "source": [
    "df.show(1)"
   ]
  },
  {
   "cell_type": "code",
   "execution_count": 3,
   "id": "d7810e0e-b09d-4bfc-a6be-ccd8314291ad",
   "metadata": {},
   "outputs": [
    {
     "name": "stdout",
     "output_type": "stream",
     "text": [
      "root\n",
      " |-- id: integer (nullable = true)\n",
      " |-- name: string (nullable = true)\n",
      "\n"
     ]
    }
   ],
   "source": [
    "df.printSchema()"
   ]
  },
  {
   "cell_type": "code",
   "execution_count": 4,
   "id": "aed09c6b-c68b-4022-bdff-093698286e5b",
   "metadata": {},
   "outputs": [],
   "source": [
    "manual_schema = \"'hello', STRINGTYPE, '23', INTEGERTYPE\""
   ]
  },
  {
   "cell_type": "code",
   "execution_count": 5,
   "id": "afb376b9-9711-459d-be6a-ba8264af6d15",
   "metadata": {},
   "outputs": [
    {
     "name": "stdout",
     "output_type": "stream",
     "text": [
      "'hello', STRINGTYPE, '23', INTEGERTYPE\n"
     ]
    }
   ],
   "source": [
    "print(manual_schema)"
   ]
  },
  {
   "cell_type": "code",
   "execution_count": 6,
   "id": "9c507a39-5e43-4069-b4eb-3fd76ccf46ec",
   "metadata": {},
   "outputs": [
    {
     "ename": "NameError",
     "evalue": "name 'sc' is not defined",
     "output_type": "error",
     "traceback": [
      "\u001b[0;31m---------------------------------------------------------------------------\u001b[0m",
      "\u001b[0;31mNameError\u001b[0m                                 Traceback (most recent call last)",
      "\u001b[0;32m<ipython-input-6-9d5311b1b7a4>\u001b[0m in \u001b[0;36m<module>\u001b[0;34m\u001b[0m\n\u001b[0;32m----> 1\u001b[0;31m \u001b[0mprint\u001b[0m\u001b[0;34m(\u001b[0m\u001b[0msc\u001b[0m\u001b[0;34m)\u001b[0m\u001b[0;34m\u001b[0m\u001b[0;34m\u001b[0m\u001b[0m\n\u001b[0m",
      "\u001b[0;31mNameError\u001b[0m: name 'sc' is not defined"
     ]
    }
   ],
   "source": [
    "print(sc)"
   ]
  },
  {
   "cell_type": "code",
   "execution_count": 7,
   "id": "68174f75-438b-4421-8197-9d97bb035e49",
   "metadata": {},
   "outputs": [
    {
     "name": "stdout",
     "output_type": "stream",
     "text": [
      "<pyspark.sql.session.SparkSession object at 0x7fa7ba356730>\n"
     ]
    }
   ],
   "source": [
    "print(spark)"
   ]
  },
  {
   "cell_type": "code",
   "execution_count": 8,
   "id": "2566c5bf-e04a-4287-bda9-833353352e25",
   "metadata": {},
   "outputs": [],
   "source": [
    "from pyspark.sql.types import StructType, StructField, StringType, IntegerType\n",
    "manual_schema_2 = StructType([StructField(\"Name\",StringType(), True), StructField(\"Age\",IntegerType(), True)])"
   ]
  },
  {
   "cell_type": "raw",
   "id": "a6e42a05",
   "metadata": {},
   "source": [
    "print(manual_schema_2)"
   ]
  },
  {
   "cell_type": "code",
   "execution_count": 9,
   "id": "e26e2420-565b-4883-822c-c7a443a76afd",
   "metadata": {},
   "outputs": [],
   "source": [
    "\n",
    "mydata = [(\"hello\",20),(\"hi\",21)]\n",
    "mydf = spark.createDataFrame(mydata, manual_schema_2)"
   ]
  },
  {
   "cell_type": "code",
   "execution_count": 10,
   "id": "4d853906-ac73-4fb6-a1ec-7c120d40e2b7",
   "metadata": {},
   "outputs": [
    {
     "name": "stdout",
     "output_type": "stream",
     "text": [
      "[('hello', 20), ('hi', 21)]\n",
      "+-----+---+\n",
      "| Name|Age|\n",
      "+-----+---+\n",
      "|hello| 20|\n",
      "|   hi| 21|\n",
      "+-----+---+\n",
      "\n"
     ]
    }
   ],
   "source": [
    "print(mydata)\n",
    "mydf.show()"
   ]
  },
  {
   "cell_type": "code",
   "execution_count": 11,
   "id": "72672a8f-4aae-4840-8dbb-2b5dafbb23d2",
   "metadata": {},
   "outputs": [
    {
     "name": "stdout",
     "output_type": "stream",
     "text": [
      "root\n",
      " |-- Name: string (nullable = true)\n",
      " |-- Age: integer (nullable = true)\n",
      "\n",
      "<class 'list'>\n"
     ]
    }
   ],
   "source": [
    "mydf.printSchema()\n",
    "print(type(mydata))"
   ]
  },
  {
   "cell_type": "code",
   "execution_count": 13,
   "id": "5a490c0e",
   "metadata": {},
   "outputs": [
    {
     "data": {
      "text/plain": [
       "<bound method DataFrame.printSchema of DataFrame[DEST_COUNTRY_NAME: string, ORIGIN_COUNTRY_NAME: string, count: bigint]>"
      ]
     },
     "execution_count": 13,
     "metadata": {},
     "output_type": "execute_result"
    }
   ],
   "source": [
    "jsondf = spark.read.json(\"data/flight-data/json/2015-summary.json\")\n",
    "jsondf.printSchema"
   ]
  },
  {
   "cell_type": "code",
   "execution_count": 14,
   "metadata": {},
   "outputs": [
    {
     "name": "stdout",
     "output_type": "stream",
     "text": [
      "+--------------------+-------------------+-----+\n",
      "|   DEST_COUNTRY_NAME|ORIGIN_COUNTRY_NAME|count|\n",
      "+--------------------+-------------------+-----+\n",
      "|       United States|            Romania|   15|\n",
      "|       United States|            Croatia|    1|\n",
      "|       United States|            Ireland|  344|\n",
      "|               Egypt|      United States|   15|\n",
      "|       United States|              India|   62|\n",
      "|       United States|          Singapore|    1|\n",
      "|       United States|            Grenada|   62|\n",
      "|          Costa Rica|      United States|  588|\n",
      "|             Senegal|      United States|   40|\n",
      "|             Moldova|      United States|    1|\n",
      "|       United States|       Sint Maarten|  325|\n",
      "|       United States|   Marshall Islands|   39|\n",
      "|              Guyana|      United States|   64|\n",
      "|               Malta|      United States|    1|\n",
      "|            Anguilla|      United States|   41|\n",
      "|             Bolivia|      United States|   30|\n",
      "|       United States|           Paraguay|    6|\n",
      "|             Algeria|      United States|    4|\n",
      "|Turks and Caicos ...|      United States|  230|\n",
      "|       United States|          Gibraltar|    1|\n",
      "+--------------------+-------------------+-----+\n",
      "only showing top 20 rows\n",
      "\n"
     ]
    }
   ],
   "source": [
    "jsondf.show()"
   ]
  },
  {
   "cell_type": "code",
   "execution_count": 23,
   "metadata": {},
   "outputs": [
    {
     "name": "stdout",
     "output_type": "stream",
     "text": [
      "+--------------------+\n",
      "|                DEST|\n",
      "+--------------------+\n",
      "|       United States|\n",
      "|       United States|\n",
      "|       United States|\n",
      "|               Egypt|\n",
      "|       United States|\n",
      "|       United States|\n",
      "|       United States|\n",
      "|          Costa Rica|\n",
      "|             Senegal|\n",
      "|             Moldova|\n",
      "|       United States|\n",
      "|       United States|\n",
      "|              Guyana|\n",
      "|               Malta|\n",
      "|            Anguilla|\n",
      "|             Bolivia|\n",
      "|       United States|\n",
      "|             Algeria|\n",
      "|Turks and Caicos ...|\n",
      "|       United States|\n",
      "+--------------------+\n",
      "only showing top 20 rows\n",
      "\n",
      "+--------------------+\n",
      "|   DEST_COUNTRY_NAME|\n",
      "+--------------------+\n",
      "|       United States|\n",
      "|       United States|\n",
      "|       United States|\n",
      "|               Egypt|\n",
      "|       United States|\n",
      "|       United States|\n",
      "|       United States|\n",
      "|          Costa Rica|\n",
      "|             Senegal|\n",
      "|             Moldova|\n",
      "|       United States|\n",
      "|       United States|\n",
      "|              Guyana|\n",
      "|               Malta|\n",
      "|            Anguilla|\n",
      "|             Bolivia|\n",
      "|       United States|\n",
      "|             Algeria|\n",
      "|Turks and Caicos ...|\n",
      "|       United States|\n",
      "+--------------------+\n",
      "only showing top 20 rows\n",
      "\n"
     ]
    }
   ],
   "source": [
    "from pyspark.sql.functions import expr, col, column\n",
    "jsondf.select(expr(\"DEST_COUNTRY_NAME as DEST\")).show()\n"
   ]
  },
  {
   "cell_type": "code",
   "execution_count": 25,
   "metadata": {},
   "outputs": [
    {
     "name": "stdout",
     "output_type": "stream",
     "text": [
      "+--------------------+\n",
      "|                DEST|\n",
      "+--------------------+\n",
      "|       United States|\n",
      "|       United States|\n",
      "|       United States|\n",
      "|               Egypt|\n",
      "|       United States|\n",
      "|       United States|\n",
      "|       United States|\n",
      "|          Costa Rica|\n",
      "|             Senegal|\n",
      "|             Moldova|\n",
      "|       United States|\n",
      "|       United States|\n",
      "|              Guyana|\n",
      "|               Malta|\n",
      "|            Anguilla|\n",
      "|             Bolivia|\n",
      "|       United States|\n",
      "|             Algeria|\n",
      "|Turks and Caicos ...|\n",
      "|       United States|\n",
      "+--------------------+\n",
      "only showing top 20 rows\n",
      "\n"
     ]
    }
   ],
   "source": [
    "jsondf.selectExpr(\"DEST_COUNTRY_NAME as DEST\").show()"
   ]
  },
  {
   "cell_type": "code",
   "execution_count": 26,
   "metadata": {},
   "outputs": [
    {
     "data": {
      "text/plain": [
       "['DEST_COUNTRY_NAME', 'ORIGIN_COUNTRY_NAME', 'count']"
      ]
     },
     "execution_count": 26,
     "metadata": {},
     "output_type": "execute_result"
    }
   ],
   "source": [
    "jsondf.columns"
   ]
  }
 ],
 "metadata": {
  "interpreter": {
   "hash": "a12e85a54471b81aa5614d4e0464006e33144d09383d34a9b1267684f620364b"
  },
  "kernelspec": {
   "display_name": "Python 3.8.11 64-bit ('myanacondaenv': conda)",
   "name": "python3"
  },
  "language_info": {
   "codemirror_mode": {
    "name": "ipython",
    "version": 3
   },
   "file_extension": ".py",
   "mimetype": "text/x-python",
   "name": "python",
   "nbconvert_exporter": "python",
   "pygments_lexer": "ipython3",
   "version": "3.8.11"
  }
 },
 "nbformat": 4,
 "nbformat_minor": 5
}
